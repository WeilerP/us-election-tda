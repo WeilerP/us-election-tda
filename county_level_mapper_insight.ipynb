{
 "cells": [
  {
   "cell_type": "markdown",
   "metadata": {},
   "source": [
    "# U.S. Presidential Election\n",
    "## Libraries"
   ]
  },
  {
   "cell_type": "code",
   "execution_count": null,
   "metadata": {},
   "outputs": [],
   "source": [
    "import warnings\n",
    "warnings.simplefilter('ignore')\n",
    "\n",
    "import sys\n",
    "\n",
    "import os\n",
    "import pandas as pd\n",
    "import numpy as np\n",
    "import matplotlib.pyplot as plt\n",
    "import matplotlib.colors\n",
    "from matplotlib.cm import get_cmap\n",
    "from matplotlib.colors import rgb2hex\n",
    "\n",
    "import seaborn as sns\n",
    "sns.set()\n",
    "\n",
    "import utils\n",
    "\n",
    "import networkx as nx\n",
    "\n",
    "from giotto.mapper import mapper as mp\n",
    "from giotto.mapper import visualize\n",
    "\n",
    "from giotto.mapper.cover import CubicalCover\n",
    "\n",
    "from sklearn.decomposition import PCA\n",
    "from sklearn.pipeline import Pipeline\n",
    "from sklearn.preprocessing import FunctionTransformer"
   ]
  },
  {
   "cell_type": "code",
   "execution_count": null,
   "metadata": {},
   "outputs": [],
   "source": [
    "# define color map to use\n",
    "cmap = matplotlib.colors.LinearSegmentedColormap.from_list(\"\",\n",
    "                                                           [\"blue\", \"violet\", \"red\"])"
   ]
  },
  {
   "cell_type": "code",
   "execution_count": null,
   "metadata": {},
   "outputs": [],
   "source": [
    "df = pd.read_pickle(os.path.join('data',\n",
    "                                 'usa_election_full_dataset.pickle'))\n",
    "\n",
    "df.head()"
   ]
  },
  {
   "cell_type": "code",
   "execution_count": null,
   "metadata": {},
   "outputs": [],
   "source": [
    "data = utils.get_data(df)\n",
    "data_per_year = utils.split_data_by_year(data, df)"
   ]
  },
  {
   "cell_type": "markdown",
   "metadata": {},
   "source": [
    "## Utility Functions"
   ]
  },
  {
   "cell_type": "code",
   "execution_count": null,
   "metadata": {},
   "outputs": [],
   "source": [
    "def filter_1d_trafo(x):\n",
    "    return np.log(np.abs(x))"
   ]
  },
  {
   "cell_type": "code",
   "execution_count": null,
   "metadata": {},
   "outputs": [],
   "source": [
    "def filter_2d_trafo(x):\n",
    "    x[:, 0] = np.log(x[:, 0] - min(x[:, 0]) + 1)\n",
    "    x[:, 1] = np.log(np.abs(x[:, 1]) + 1)\n",
    "    return x"
   ]
  },
  {
   "cell_type": "code",
   "execution_count": null,
   "metadata": {},
   "outputs": [],
   "source": [
    "def get_node_text(node_elements):\n",
    "    return list(map(lambda x: f'Node Id: {x[0]}<br>Node size: {len(x[1])}',\n",
    "                    node_elements.items()))"
   ]
  },
  {
   "cell_type": "markdown",
   "metadata": {},
   "source": [
    "### Mapper\n",
    "#### 1D PCA"
   ]
  },
  {
   "cell_type": "code",
   "execution_count": null,
   "metadata": {},
   "outputs": [],
   "source": [
    "pca = PCA(n_components=1)\n",
    "\n",
    "filtr_vals = pca.fit_transform(data_per_year['2016'])\n",
    "\n",
    "fig, ax = plt.subplots(nrows=2, ncols=1, figsize=(15, 10))\n",
    "\n",
    "# pca 1\n",
    "(sns.distplot(filtr_vals,\n",
    "              ax=ax[0])\n",
    " .set_title('Original PCA 1'))\n",
    "(sns.distplot(np.log(np.abs(filtr_vals)),\n",
    "              ax=ax[1])\n",
    " .set_title('Transformed PCA 1'))"
   ]
  },
  {
   "cell_type": "code",
   "execution_count": null,
   "metadata": {},
   "outputs": [],
   "source": [
    "n_intervals = 50\n",
    "overlap_frac = 0.1"
   ]
  },
  {
   "cell_type": "code",
   "execution_count": null,
   "metadata": {},
   "outputs": [],
   "source": [
    "filter_func = Pipeline([('pca', pca),\n",
    "                        ('trafo', FunctionTransformer(filter_1d_trafo))])\n",
    "cover = CubicalCover(n_intervals=n_intervals,\n",
    "                     overlap_frac=overlap_frac)\n",
    "\n",
    "pipe = mp.make_mapper_pipeline(filter_func=filter_func,\n",
    "                               cover=cover)\n",
    "graph = pipe.fit_transform(data_per_year['2016'])"
   ]
  },
  {
   "cell_type": "code",
   "execution_count": null,
   "metadata": {},
   "outputs": [],
   "source": [
    "seed = 1\n",
    "\n",
    "node_elements = nx.get_node_attributes(graph, 'elements')\n",
    "pos = nx.spring_layout(graph, seed=seed, dim=2)\n",
    "\n",
    "node_color = utils.get_node_summary(node_elements,\n",
    "                                    df[df['year'] == 2016]['winner'].values,\n",
    "                                    summary_stat=np.mean)\n",
    "custom_plot_options = {'node_trace_marker_colorscale': 'RdBu',\n",
    "                       'node_trace_marker_reversescale': True}\n",
    "\n",
    "visualize.create_network_2d(graph, pos, node_color, node_scale=20,\n",
    "                            custom_plot_options=custom_plot_options)"
   ]
  },
  {
   "cell_type": "markdown",
   "metadata": {},
   "source": [
    "#### 2D PCA"
   ]
  },
  {
   "cell_type": "code",
   "execution_count": null,
   "metadata": {},
   "outputs": [],
   "source": [
    "pipe = mp.make_mapper_pipeline()\n",
    "graph = pipe.fit_transform(data_per_year['2016'])"
   ]
  },
  {
   "cell_type": "code",
   "execution_count": null,
   "metadata": {},
   "outputs": [],
   "source": [
    "seed = 1\n",
    "\n",
    "node_elements = nx.get_node_attributes(graph, 'elements')\n",
    "pos = nx.spring_layout(graph, seed=seed, dim=2)\n",
    "\n",
    "node_color = utils.get_node_summary(node_elements,\n",
    "                                    df[df['year'] == 2016]['winner'].values,\n",
    "                                    summary_stat=np.mean)\n",
    "custom_plot_options = {'node_trace_marker_colorscale': 'RdBu',\n",
    "                       'node_trace_marker_reversescale': True}\n",
    "\n",
    "visualize.create_network_2d(graph, pos, node_color, node_scale=20,\n",
    "                            custom_plot_options=custom_plot_options)"
   ]
  },
  {
   "cell_type": "markdown",
   "metadata": {},
   "source": [
    "#### Custom PCA Filter"
   ]
  },
  {
   "cell_type": "code",
   "execution_count": null,
   "metadata": {},
   "outputs": [],
   "source": [
    "pca = PCA(n_components=2)"
   ]
  },
  {
   "cell_type": "code",
   "execution_count": null,
   "metadata": {},
   "outputs": [],
   "source": [
    "filtr_vals = pca.fit_transform(data_per_year['2016'])\n",
    "\n",
    "fig, ax = plt.subplots(nrows=2, ncols=2, figsize=(15, 10))\n",
    "\n",
    "# pca 1\n",
    "(sns.distplot(filtr_vals[:, 0],\n",
    "              ax=ax[0, 0])\n",
    " .set_title('Original PCA 1'))\n",
    "(sns.distplot(np.log(filtr_vals[:, 0] - min(filtr_vals[:, 0]) + 1),\n",
    "              ax=ax[1, 0])\n",
    " .set_title('Transformed PCA 1'))\n",
    "\n",
    "# pca 2\n",
    "(sns.distplot(filtr_vals[:, 1],\n",
    "              ax=ax[0, 1])\n",
    " .set_title('PCA 2'))\n",
    "(sns.distplot(np.log(np.abs(filtr_vals[:, 1]) + 1),\n",
    "              ax=ax[1, 1])\n",
    " .set_title('Transformed PCA 2'))"
   ]
  },
  {
   "cell_type": "code",
   "execution_count": null,
   "metadata": {},
   "outputs": [],
   "source": [
    "filter_func = Pipeline([('pca', pca),\n",
    "                        ('trafo', FunctionTransformer(filter_2d_trafo))])"
   ]
  },
  {
   "cell_type": "code",
   "execution_count": null,
   "metadata": {},
   "outputs": [],
   "source": [
    "pipe = mp.make_mapper_pipeline(filter_func=filter_func)\n",
    "graph = pipe.fit_transform(data_per_year['2016'])"
   ]
  },
  {
   "cell_type": "code",
   "execution_count": null,
   "metadata": {},
   "outputs": [],
   "source": [
    "seed = 0\n",
    "\n",
    "node_elements = nx.get_node_attributes(graph, 'elements')\n",
    "pos = nx.spring_layout(graph, seed=seed, dim=2)\n",
    "\n",
    "node_color = utils.get_node_summary(node_elements,\n",
    "                                    df[df['year'] == 2016]['winner'].values,\n",
    "                                    summary_stat=np.mean)\n",
    "\n",
    "node_text = get_node_text(node_elements)\n",
    "\n",
    "custom_plot_options = {'node_trace_marker_colorscale': 'RdBu',\n",
    "                       'node_trace_marker_reversescale': True,\n",
    "                       'node_trace_text': node_text}\n",
    "\n",
    "visualize.create_network_2d(graph, pos, node_color, node_scale=20,\n",
    "                            custom_plot_options=custom_plot_options)"
   ]
  },
  {
   "cell_type": "markdown",
   "metadata": {},
   "source": [
    "#### Change Cover Parameters"
   ]
  },
  {
   "cell_type": "code",
   "execution_count": null,
   "metadata": {},
   "outputs": [],
   "source": [
    "n_intervals = 20\n",
    "overlap_frac = 0.1"
   ]
  },
  {
   "cell_type": "code",
   "execution_count": null,
   "metadata": {},
   "outputs": [],
   "source": [
    "cover = CubicalCover(n_intervals=n_intervals,\n",
    "                     overlap_frac=overlap_frac)\n",
    "\n",
    "pipe = mp.make_mapper_pipeline(filter_func=filter_func,\n",
    "                               cover=cover)\n",
    "graph = pipe.fit_transform(data_per_year['2016'])"
   ]
  },
  {
   "cell_type": "code",
   "execution_count": null,
   "metadata": {},
   "outputs": [],
   "source": [
    "seed = 20\n",
    "\n",
    "node_elements = nx.get_node_attributes(graph, 'elements')\n",
    "pos = nx.spring_layout(graph, seed=seed, dim=3)\n",
    "\n",
    "node_color = utils.get_node_summary(node_elements,\n",
    "                                    df[df['year'] == 2016]['winner'].values,\n",
    "                                    summary_stat=np.mean)\n",
    "\n",
    "node_text = get_node_text(node_elements)\n",
    "\n",
    "custom_plot_options = {'node_trace_marker_colorscale': 'RdBu',\n",
    "                       'node_trace_marker_reversescale': True,\n",
    "                       'node_trace_text': node_text,\n",
    "                       'node_trace_hoverlabel': dict(\n",
    "                            bgcolor=list(map(lambda x: rgb2hex(get_cmap('RdBu_r')(x)),\n",
    "                                             node_color)))}\n",
    "\n",
    "visualize.create_network_3d(graph, pos, node_color, node_scale=100,\n",
    "                            custom_plot_options=custom_plot_options)"
   ]
  },
  {
   "cell_type": "markdown",
   "metadata": {},
   "source": [
    "### Example for 3D Plot"
   ]
  },
  {
   "cell_type": "code",
   "execution_count": null,
   "metadata": {},
   "outputs": [],
   "source": [
    "seed = 14\n",
    "pos = nx.spring_layout(graph, seed=seed, dim=3)\n",
    "\n",
    "node_color = utils.get_node_summary(node_elements, data_per_year['2016'])\n",
    "\n",
    "custom_plot_options = {'node_trace_marker_colorscale': 'RdBu',\n",
    "                       'node_trace_marker_reversescale': True,\n",
    "                       'node_trace_hoverlabel': dict(\n",
    "                            bgcolor=list(map(lambda x: rgb2hex(get_cmap('RdBu_r')(x)),\n",
    "                                             node_color)))}\n",
    "\n",
    "visualize.create_network_3d(graph, pos, node_color,\n",
    "                            node_scale=100, custom_plot_options=custom_plot_options)"
   ]
  },
  {
   "cell_type": "markdown",
   "metadata": {},
   "source": [
    "### Interactive"
   ]
  },
  {
   "cell_type": "code",
   "execution_count": null,
   "metadata": {},
   "outputs": [],
   "source": [
    "plotly_kwargs = {'custom_plot_options': {'node_trace_marker_reversescale': True,\n",
    "                                         'node_trace_marker_colorscale': 'RdBu'}}\n",
    "visualize.create_interactive_network(pipe, data_per_year['2016'],\n",
    "                                     plotly_kwargs=plotly_kwargs,\n",
    "                                     summary_stat=np.mean)"
   ]
  },
  {
   "cell_type": "code",
   "execution_count": null,
   "metadata": {},
   "outputs": [],
   "source": []
  }
 ],
 "metadata": {
  "kernelspec": {
   "display_name": "Python 3",
   "language": "python",
   "name": "python3"
  },
  "language_info": {
   "codemirror_mode": {
    "name": "ipython",
    "version": 3
   },
   "file_extension": ".py",
   "mimetype": "text/x-python",
   "name": "python",
   "nbconvert_exporter": "python",
   "pygments_lexer": "ipython3",
   "version": "3.7.5"
  }
 },
 "nbformat": 4,
 "nbformat_minor": 2
}
