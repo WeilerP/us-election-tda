{
 "cells": [
  {
   "cell_type": "markdown",
   "metadata": {},
   "source": [
    "# U.S. Presidential Election\n",
    "## Libraries"
   ]
  },
  {
   "cell_type": "code",
   "execution_count": 1,
   "metadata": {},
   "outputs": [],
   "source": [
    "import warnings\n",
    "warnings.simplefilter('ignore')\n",
    "\n",
    "import sys\n",
    "\n",
    "import os\n",
    "import pandas as pd\n",
    "import numpy as np\n",
    "import matplotlib.pyplot as plt\n",
    "import matplotlib.colors\n",
    "\n",
    "import seaborn as sns\n",
    "sns.set()\n",
    "\n",
    "import utils\n",
    "\n",
    "import networkx as nx\n",
    "\n",
    "from giotto.mapper import mapper as mp\n",
    "from giotto.mapper import visualize\n",
    "\n",
    "from sklearn.decomposition import PCA"
   ]
  },
  {
   "cell_type": "code",
   "execution_count": 2,
   "metadata": {},
   "outputs": [],
   "source": [
    "# define color map to use\n",
    "cmap = matplotlib.colors.LinearSegmentedColormap.from_list(\"\",\n",
    "                                                           [\"blue\", \"violet\", \"red\"])"
   ]
  },
  {
   "cell_type": "code",
   "execution_count": 3,
   "metadata": {},
   "outputs": [
    {
     "data": {
      "text/html": [
       "<div>\n",
       "<style scoped>\n",
       "    .dataframe tbody tr th:only-of-type {\n",
       "        vertical-align: middle;\n",
       "    }\n",
       "\n",
       "    .dataframe tbody tr th {\n",
       "        vertical-align: top;\n",
       "    }\n",
       "\n",
       "    .dataframe thead th {\n",
       "        text-align: right;\n",
       "    }\n",
       "</style>\n",
       "<table border=\"1\" class=\"dataframe\">\n",
       "  <thead>\n",
       "    <tr style=\"text-align: right;\">\n",
       "      <th></th>\n",
       "      <th>year</th>\n",
       "      <th>state</th>\n",
       "      <th>county</th>\n",
       "      <th>fips</th>\n",
       "      <th>pres</th>\n",
       "      <th>republican</th>\n",
       "      <th>democrat</th>\n",
       "      <th>total_votes</th>\n",
       "      <th>n_electors</th>\n",
       "      <th>winner</th>\n",
       "      <th>...</th>\n",
       "      <th>Farm proprietors' income</th>\n",
       "      <th>Nonfarm proprietors' income</th>\n",
       "      <th>Total employment (number of jobs)</th>\n",
       "      <th>Wage and salary employment</th>\n",
       "      <th>Proprietors employment</th>\n",
       "      <th>Farm proprietors employment 6/</th>\n",
       "      <th>Nonfarm proprietors employment</th>\n",
       "      <th>Average earnings per job (dollars)</th>\n",
       "      <th>Average wages and salaries</th>\n",
       "      <th>Average nonfarm proprietors' income</th>\n",
       "    </tr>\n",
       "  </thead>\n",
       "  <tbody>\n",
       "    <tr>\n",
       "      <th>0</th>\n",
       "      <td>2000</td>\n",
       "      <td>Alabama</td>\n",
       "      <td>Autauga</td>\n",
       "      <td>01001</td>\n",
       "      <td>1</td>\n",
       "      <td>11993.0</td>\n",
       "      <td>4942.0</td>\n",
       "      <td>17208.0</td>\n",
       "      <td>0.088988</td>\n",
       "      <td>1</td>\n",
       "      <td>...</td>\n",
       "      <td>8519.0</td>\n",
       "      <td>54075.0</td>\n",
       "      <td>16138.0</td>\n",
       "      <td>11884.0</td>\n",
       "      <td>4254.0</td>\n",
       "      <td>404.0</td>\n",
       "      <td>3850.0</td>\n",
       "      <td>25707.0</td>\n",
       "      <td>24447.0</td>\n",
       "      <td>14045.0</td>\n",
       "    </tr>\n",
       "    <tr>\n",
       "      <th>1</th>\n",
       "      <td>2000</td>\n",
       "      <td>Alabama</td>\n",
       "      <td>Baldwin</td>\n",
       "      <td>01003</td>\n",
       "      <td>1</td>\n",
       "      <td>40872.0</td>\n",
       "      <td>13997.0</td>\n",
       "      <td>56480.0</td>\n",
       "      <td>0.285721</td>\n",
       "      <td>1</td>\n",
       "      <td>...</td>\n",
       "      <td>7003.0</td>\n",
       "      <td>282926.0</td>\n",
       "      <td>69423.0</td>\n",
       "      <td>53281.0</td>\n",
       "      <td>16142.0</td>\n",
       "      <td>1143.0</td>\n",
       "      <td>14999.0</td>\n",
       "      <td>25382.0</td>\n",
       "      <td>22593.0</td>\n",
       "      <td>18863.0</td>\n",
       "    </tr>\n",
       "    <tr>\n",
       "      <th>2</th>\n",
       "      <td>2000</td>\n",
       "      <td>Alabama</td>\n",
       "      <td>Barbour</td>\n",
       "      <td>01005</td>\n",
       "      <td>1</td>\n",
       "      <td>5096.0</td>\n",
       "      <td>5188.0</td>\n",
       "      <td>10395.0</td>\n",
       "      <td>0.058653</td>\n",
       "      <td>0</td>\n",
       "      <td>...</td>\n",
       "      <td>19495.0</td>\n",
       "      <td>23680.0</td>\n",
       "      <td>15146.0</td>\n",
       "      <td>12846.0</td>\n",
       "      <td>2300.0</td>\n",
       "      <td>546.0</td>\n",
       "      <td>1754.0</td>\n",
       "      <td>26907.0</td>\n",
       "      <td>22749.0</td>\n",
       "      <td>13501.0</td>\n",
       "    </tr>\n",
       "    <tr>\n",
       "      <th>3</th>\n",
       "      <td>2000</td>\n",
       "      <td>Alabama</td>\n",
       "      <td>Bibb</td>\n",
       "      <td>01007</td>\n",
       "      <td>1</td>\n",
       "      <td>4273.0</td>\n",
       "      <td>2710.0</td>\n",
       "      <td>7101.0</td>\n",
       "      <td>0.040254</td>\n",
       "      <td>1</td>\n",
       "      <td>...</td>\n",
       "      <td>3323.0</td>\n",
       "      <td>14631.0</td>\n",
       "      <td>6029.0</td>\n",
       "      <td>4609.0</td>\n",
       "      <td>1420.0</td>\n",
       "      <td>204.0</td>\n",
       "      <td>1216.0</td>\n",
       "      <td>24135.0</td>\n",
       "      <td>22165.0</td>\n",
       "      <td>12032.0</td>\n",
       "    </tr>\n",
       "    <tr>\n",
       "      <th>4</th>\n",
       "      <td>2000</td>\n",
       "      <td>Alabama</td>\n",
       "      <td>Blount</td>\n",
       "      <td>01009</td>\n",
       "      <td>1</td>\n",
       "      <td>12667.0</td>\n",
       "      <td>4977.0</td>\n",
       "      <td>17973.0</td>\n",
       "      <td>0.103312</td>\n",
       "      <td>1</td>\n",
       "      <td>...</td>\n",
       "      <td>26244.0</td>\n",
       "      <td>61227.0</td>\n",
       "      <td>16255.0</td>\n",
       "      <td>10490.0</td>\n",
       "      <td>5765.0</td>\n",
       "      <td>1382.0</td>\n",
       "      <td>4383.0</td>\n",
       "      <td>22830.0</td>\n",
       "      <td>21913.0</td>\n",
       "      <td>13969.0</td>\n",
       "    </tr>\n",
       "  </tbody>\n",
       "</table>\n",
       "<p>5 rows × 41 columns</p>\n",
       "</div>"
      ],
      "text/plain": [
       "   year    state   county   fips  pres  republican  democrat  total_votes  \\\n",
       "0  2000  Alabama  Autauga  01001     1     11993.0    4942.0      17208.0   \n",
       "1  2000  Alabama  Baldwin  01003     1     40872.0   13997.0      56480.0   \n",
       "2  2000  Alabama  Barbour  01005     1      5096.0    5188.0      10395.0   \n",
       "3  2000  Alabama     Bibb  01007     1      4273.0    2710.0       7101.0   \n",
       "4  2000  Alabama   Blount  01009     1     12667.0    4977.0      17973.0   \n",
       "\n",
       "   n_electors  winner  ...  Farm proprietors' income  \\\n",
       "0    0.088988       1  ...                    8519.0   \n",
       "1    0.285721       1  ...                    7003.0   \n",
       "2    0.058653       0  ...                   19495.0   \n",
       "3    0.040254       1  ...                    3323.0   \n",
       "4    0.103312       1  ...                   26244.0   \n",
       "\n",
       "   Nonfarm proprietors' income  Total employment (number of jobs)  \\\n",
       "0                      54075.0                            16138.0   \n",
       "1                     282926.0                            69423.0   \n",
       "2                      23680.0                            15146.0   \n",
       "3                      14631.0                             6029.0   \n",
       "4                      61227.0                            16255.0   \n",
       "\n",
       "   Wage and salary employment  Proprietors employment  \\\n",
       "0                     11884.0                  4254.0   \n",
       "1                     53281.0                 16142.0   \n",
       "2                     12846.0                  2300.0   \n",
       "3                      4609.0                  1420.0   \n",
       "4                     10490.0                  5765.0   \n",
       "\n",
       "   Farm proprietors employment 6/  Nonfarm proprietors employment  \\\n",
       "0                           404.0                          3850.0   \n",
       "1                          1143.0                         14999.0   \n",
       "2                           546.0                          1754.0   \n",
       "3                           204.0                          1216.0   \n",
       "4                          1382.0                          4383.0   \n",
       "\n",
       "   Average earnings per job (dollars)  Average wages and salaries  \\\n",
       "0                             25707.0                     24447.0   \n",
       "1                             25382.0                     22593.0   \n",
       "2                             26907.0                     22749.0   \n",
       "3                             24135.0                     22165.0   \n",
       "4                             22830.0                     21913.0   \n",
       "\n",
       "   Average nonfarm proprietors' income  \n",
       "0                              14045.0  \n",
       "1                              18863.0  \n",
       "2                              13501.0  \n",
       "3                              12032.0  \n",
       "4                              13969.0  \n",
       "\n",
       "[5 rows x 41 columns]"
      ]
     },
     "execution_count": 3,
     "metadata": {},
     "output_type": "execute_result"
    }
   ],
   "source": [
    "df = pd.read_pickle(os.path.join('data',\n",
    "                                 'usa_election_full_dataset.pickle'))\n",
    "\n",
    "df.head()"
   ]
  },
  {
   "cell_type": "code",
   "execution_count": 4,
   "metadata": {},
   "outputs": [],
   "source": [
    "data = utils.get_data(df)\n",
    "data_per_year = utils.split_data_by_year(data, df)"
   ]
  },
  {
   "cell_type": "markdown",
   "metadata": {},
   "source": [
    "### Mapper\n",
    "#### Standard PCA"
   ]
  },
  {
   "cell_type": "code",
   "execution_count": 5,
   "metadata": {},
   "outputs": [],
   "source": [
    "pipe = mp.make_mapper_pipeline()\n",
    "graph = pipe.fit_transform(data_per_year['2016'])"
   ]
  },
  {
   "cell_type": "code",
   "execution_count": 6,
   "metadata": {},
   "outputs": [
    {
     "data": {
      "application/vnd.jupyter.widget-view+json": {
       "model_id": "5552284f980044fdba2ef2ac65a440a1",
       "version_major": 2,
       "version_minor": 0
      },
      "text/plain": [
       "FigureWidget({\n",
       "    'data': [{'hoverinfo': 'none',\n",
       "              'line': {'color': '#888', 'width': 0.5},\n",
       "     …"
      ]
     },
     "metadata": {},
     "output_type": "display_data"
    }
   ],
   "source": [
    "seed = 1\n",
    "\n",
    "node_elements = nx.get_node_attributes(graph, 'elements')\n",
    "pos = nx.spring_layout(graph, seed=seed, dim=2)\n",
    "\n",
    "node_color = utils.get_node_summary(node_elements,\n",
    "                                    df[df['year'] == 2016]['winner'].values,\n",
    "                                    summary_stat=np.mean)\n",
    "custom_plot_options = {'node_trace_marker_colorscale': 'RdBu',\n",
    "                       'node_trace_marker_reversescale': True}\n",
    "\n",
    "visualize.create_network_2d(graph, pos, node_color, node_scale=20,\n",
    "                            custom_plot_options=custom_plot_options)"
   ]
  },
  {
   "cell_type": "markdown",
   "metadata": {},
   "source": [
    "#### Custom PCA Filter"
   ]
  },
  {
   "cell_type": "code",
   "execution_count": 7,
   "metadata": {},
   "outputs": [],
   "source": [
    "pca = PCA(n_components=2)"
   ]
  },
  {
   "cell_type": "code",
   "execution_count": 8,
   "metadata": {},
   "outputs": [
    {
     "data": {
      "text/plain": [
       "Text(0.5, 1.0, 'Transformed PCA 2')"
      ]
     },
     "execution_count": 8,
     "metadata": {},
     "output_type": "execute_result"
    },
    {
     "data": {
      "image/png": "[encoded data removed]",
      "text/plain": [
       "<Figure size 1080x720 with 4 Axes>"
      ]
     },
     "metadata": {},
     "output_type": "display_data"
    }
   ],
   "source": [
    "filtr_vals = pca.fit_transform(data_per_year['2016'])\n",
    "\n",
    "fig, ax = plt.subplots(nrows=2, ncols=2, figsize=(15, 10))\n",
    "\n",
    "# pca 1\n",
    "(sns.distplot(filtr_vals[:, 0],\n",
    "              ax=ax[0, 0])\n",
    " .set_title('Original PCA 1'))\n",
    "(sns.distplot(np.log(filtr_vals[:, 0] - min(filtr_vals[:, 0]) + 1),\n",
    "              ax=ax[1, 0])\n",
    " .set_title('Transformed PCA 1'))\n",
    "\n",
    "# pca 2\n",
    "(sns.distplot(filtr_vals[:, 1],\n",
    "              ax=ax[0, 1])\n",
    " .set_title('PCA 2'))\n",
    "(sns.distplot(np.log(np.abs(filtr_vals[:, 1]) + 1),\n",
    "              ax=ax[1, 1])\n",
    " .set_title('Transformed PCA 2'))"
   ]
  },
  {
   "cell_type": "code",
   "execution_count": 9,
   "metadata": {},
   "outputs": [],
   "source": [
    "def filter_trafo(x):\n",
    "    x[:, 0] = np.log(x[:, 0] - min(x[:, 0]) + 1)\n",
    "    x[:, 1] = np.log(np.abs(x[:, 1]) + 1)\n",
    "    return x\n",
    "\n",
    "from sklearn.pipeline import Pipeline\n",
    "from sklearn.preprocessing import FunctionTransformer\n",
    "\n",
    "filter_func = Pipeline([('pca', pca), ('trafo', FunctionTransformer(filter_trafo))])"
   ]
  },
  {
   "cell_type": "code",
   "execution_count": 10,
   "metadata": {},
   "outputs": [],
   "source": [
    "pipe = mp.make_mapper_pipeline(filter_func=filter_func)\n",
    "graph = pipe.fit_transform(data_per_year['2016'])"
   ]
  },
  {
   "cell_type": "code",
   "execution_count": 31,
   "metadata": {},
   "outputs": [],
   "source": [
    "def get_node_text(node_elements):\n",
    "    return list(map(lambda x: f'Node Id: {x[0]}<br>Node size: {len(x[1])}',\n",
    "                    node_elements.items()))"
   ]
  },
  {
   "cell_type": "code",
   "execution_count": 32,
   "metadata": {},
   "outputs": [
    {
     "data": {
      "application/vnd.jupyter.widget-view+json": {
       "model_id": "f5782b8578e74af7b57bc9df15c683d2",
       "version_major": 2,
       "version_minor": 0
      },
      "text/plain": [
       "FigureWidget({\n",
       "    'data': [{'hoverinfo': 'none',\n",
       "              'line': {'color': '#888', 'width': 0.5},\n",
       "     …"
      ]
     },
     "metadata": {},
     "output_type": "display_data"
    }
   ],
   "source": [
    "seed = 0\n",
    "\n",
    "node_elements = nx.get_node_attributes(graph, 'elements')\n",
    "pos = nx.spring_layout(graph, seed=seed, dim=2)\n",
    "\n",
    "node_color = utils.get_node_summary(node_elements,\n",
    "                                    df[df['year'] == 2016]['winner'].values,\n",
    "                                    summary_stat=np.mean)\n",
    "\n",
    "node_text = get_node_text(node_elements)\n",
    "\n",
    "custom_plot_options = {'node_trace_marker_colorscale': 'RdBu',\n",
    "                       'node_trace_marker_reversescale': True,\n",
    "                       'node_trace_text': node_text}\n",
    "\n",
    "visualize.create_network_2d(graph, pos, node_color, node_scale=20,\n",
    "                            custom_plot_options=custom_plot_options)"
   ]
  },
  {
   "cell_type": "markdown",
   "metadata": {},
   "source": [
    "### Example for 3D Plot"
   ]
  },
  {
   "cell_type": "code",
   "execution_count": null,
   "metadata": {},
   "outputs": [],
   "source": [
    "from matplotlib.cm import get_cmap\n",
    "from matplotlib.colors import rgb2hex\n",
    "\n",
    "seed = 14\n",
    "pos = nx.spring_layout(graph, seed=seed, dim=3)\n",
    "\n",
    "node_color = utils.get_node_summary(node_elements, data_per_year['2016'])\n",
    "\n",
    "custom_plot_options = {'node_trace_marker_colorscale': 'RdBu',\n",
    "                       'node_trace_marker_reversescale': True,\n",
    "                       'node_trace_hoverlabel': dict(\n",
    "                            bgcolor=list(map(lambda x: rgb2hex(get_cmap('RdBu_r')(x)),\n",
    "                                             node_color)))}\n",
    "\n",
    "visualize.create_network_3d(graph, pos, node_color,\n",
    "                            node_scale=100, custom_plot_options=custom_plot_options)"
   ]
  },
  {
   "cell_type": "markdown",
   "metadata": {},
   "source": [
    "### Interactive"
   ]
  },
  {
   "cell_type": "code",
   "execution_count": null,
   "metadata": {},
   "outputs": [],
   "source": [
    "plotly_kwargs = {'custom_plot_options': {'node_trace_marker_reversescale': True,\n",
    "                                         'node_trace_marker_colorscale': 'RdBu'}}\n",
    "visualize.create_interactive_network(pipe, data_per_year['2016'],\n",
    "                                     plotly_kwargs=plotly_kwargs,\n",
    "                                     summary_stat=np.mean)"
   ]
  }
 ],
 "metadata": {
  "kernelspec": {
   "display_name": "Python 3",
   "language": "python",
   "name": "python3"
  },
  "language_info": {
   "codemirror_mode": {
    "name": "ipython",
    "version": 3
   },
   "file_extension": ".py",
   "mimetype": "text/x-python",
   "name": "python",
   "nbconvert_exporter": "python",
   "pygments_lexer": "ipython3",
   "version": "3.7.5"
  }
 },
 "nbformat": 4,
 "nbformat_minor": 2
}
