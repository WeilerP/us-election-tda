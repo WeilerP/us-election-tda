{
 "cells": [
  {
   "cell_type": "markdown",
   "metadata": {},
   "source": [
    "# U.S. Presidential Election\n",
    "## Libraries"
   ]
  },
  {
   "cell_type": "code",
   "execution_count": null,
   "metadata": {},
   "outputs": [],
   "source": [
    "%load_ext autoreload\n",
    "%autoreload 2"
   ]
  },
  {
   "cell_type": "code",
   "execution_count": null,
   "metadata": {},
   "outputs": [],
   "source": [
    "import warnings\n",
    "warnings.simplefilter('ignore')\n",
    "\n",
    "import sys\n",
    "\n",
    "import os\n",
    "import pandas as pd\n",
    "import numpy as np\n",
    "import matplotlib.pyplot as plt\n",
    "#import matplotlib.colors\n",
    "from matplotlib.cm import get_cmap\n",
    "from matplotlib.colors import rgb2hex\n",
    "\n",
    "import seaborn as sns\n",
    "sns.set()\n",
    "\n",
    "import utils\n",
    "from plotting import get_graph_plot_colored_by_winner\n",
    "\n",
    "from giotto.mapper import mapper as mp\n",
    "from giotto.mapper import visualize\n",
    "\n",
    "from giotto.mapper.cover import CubicalCover\n",
    "from giotto.mapper.cover import OneDimensionalCover\n",
    "from giotto.mapper.cluster import FirstSimpleGap\n",
    "from giotto.mapper.cluster import FirstHistogramGap\n",
    "\n",
    "from sklearn.decomposition import PCA\n",
    "from sklearn.pipeline import Pipeline\n",
    "from sklearn.preprocessing import FunctionTransformer"
   ]
  },
  {
   "cell_type": "code",
   "execution_count": null,
   "metadata": {},
   "outputs": [],
   "source": [
    "df = pd.read_pickle(os.path.join('data',\n",
    "                                 'usa_election_full_dataset.pickle'))\n",
    "\n",
    "df.head()"
   ]
  },
  {
   "cell_type": "code",
   "execution_count": null,
   "metadata": {},
   "outputs": [],
   "source": [
    "data = utils.get_data(df)\n",
    "data_per_year = utils.split_data_by_year(data, df)"
   ]
  },
  {
   "cell_type": "markdown",
   "metadata": {},
   "source": [
    "## Utility Functions"
   ]
  },
  {
   "cell_type": "code",
   "execution_count": null,
   "metadata": {},
   "outputs": [],
   "source": [
    "def filter_2d_trafo(x):\n",
    "    x[:, 0] = np.log(x[:, 0] - min(x[:, 0]) + 1)\n",
    "    x[:, 1] = np.log(np.abs(x[:, 1]) + 1)\n",
    "    return x"
   ]
  },
  {
   "cell_type": "markdown",
   "metadata": {},
   "source": [
    "## Mapper"
   ]
  },
  {
   "cell_type": "code",
   "execution_count": null,
   "metadata": {},
   "outputs": [],
   "source": [
    "pca = PCA(n_components=2)"
   ]
  },
  {
   "cell_type": "code",
   "execution_count": null,
   "metadata": {},
   "outputs": [],
   "source": [
    "filtr_vals = pca.fit_transform(data_per_year['2016'])\n",
    "\n",
    "fig, ax = plt.subplots(nrows=2, ncols=2, figsize=(15, 10))\n",
    "\n",
    "# pca 1\n",
    "(sns.distplot(filtr_vals[:, 0],\n",
    "              ax=ax[0, 0])\n",
    " .set_title('Original PCA 1'))\n",
    "(sns.distplot(np.log(filtr_vals[:, 0] - min(filtr_vals[:, 0]) + 1),\n",
    "              ax=ax[1, 0])\n",
    " .set_title('Transformed PCA 1'))\n",
    "\n",
    "# pca 2\n",
    "(sns.distplot(filtr_vals[:, 1],\n",
    "              ax=ax[0, 1])\n",
    " .set_title('PCA 2'))\n",
    "(sns.distplot(np.log(np.abs(filtr_vals[:, 1]) + 1),\n",
    "              ax=ax[1, 1])\n",
    " .set_title('Transformed PCA 2'));"
   ]
  },
  {
   "cell_type": "code",
   "execution_count": null,
   "metadata": {},
   "outputs": [],
   "source": [
    "filter_func = Pipeline([('pca', pca),\n",
    "                        ('trafo', FunctionTransformer(filter_2d_trafo))])\n",
    "\n",
    "pipe = mp.make_mapper_pipeline(filter_func=filter_func)\n",
    "graph = pipe.fit_transform(data_per_year['2016'])"
   ]
  },
  {
   "cell_type": "code",
   "execution_count": null,
   "metadata": {},
   "outputs": [],
   "source": [
    "node_elements = graph['node_metadata']['node_elements']\n",
    "\n",
    "pos = graph.layout('kamada_kawai')\n",
    "\n",
    "node_color = utils.get_node_summary(node_elements,\n",
    "                                    filter_func.fit_transform(data_per_year['2016']),\n",
    "                                    summary_stat=np.mean)\n",
    "\n",
    "custom_plot_options = {\n",
    "    'node_trace_marker_cmin': min(node_color),\n",
    "    'node_trace_marker_cmax': max(node_color)}\n",
    "\n",
    "visualize.create_network_2d(graph, pos, node_color,\n",
    "                            custom_plot_options=custom_plot_options)"
   ]
  },
  {
   "cell_type": "markdown",
   "metadata": {},
   "source": [
    "### Colored by Winner of Presidential Election"
   ]
  },
  {
   "cell_type": "code",
   "execution_count": null,
   "metadata": {
    "scrolled": false
   },
   "outputs": [],
   "source": [
    "for year in range(2016, 1996, -4):\n",
    "    print(f'-- {year} Election --')\n",
    "    fig = get_graph_plot_colored_by_winner(graph, year, df, pos)\n",
    "    fig.show(config={'scrollZoom': True})"
   ]
  },
  {
   "cell_type": "markdown",
   "metadata": {},
   "source": [
    "### Colored by Economic Indicator"
   ]
  },
  {
   "cell_type": "code",
   "execution_count": null,
   "metadata": {
    "scrolled": false
   },
   "outputs": [],
   "source": [
    "vertices_to_remove = [45, 18, 1, 7, 52, 55, 50, 49, 46, 51, 47, 30, 2, 44,\n",
    "                      37, 54, 53, 9, 48, 13, 24]\n",
    "\n",
    "giant_component = utils.get_subgraph(graph, vertices_to_remove)\n",
    "\n",
    "node_elements = tuple(list(giant_component['node_metadata']['node_elements'])[v]\n",
    "                      for v in range(graph.vcount()) if v not in vertices_to_remove)\n",
    "\n",
    "pos = giant_component.layout('kamada_kawai')\n",
    "\n",
    "num_cols, _, _ = utils.get_cols_by_type()\n",
    "relevant_cols = ['Personal income (thousands of dollars)',\n",
    "                 'Net earnings by place of residence',\n",
    "                 'Personal current transfer receipts',\n",
    "                 'Dividends, interest, and rent 2/',\n",
    "                 'Per capita personal income 4/',\n",
    "                 'Per capita personal current transfer receipts 4/',\n",
    "                 'Per capita retirement and other 4/',\n",
    "                 'Earnings by place of work',\n",
    "                 'Wages and salaries']\n",
    "\n",
    "for col in relevant_cols:\n",
    "    print(f'-- {col}  --')\n",
    "    node_color = utils.get_node_summary(node_elements,\n",
    "                                        df[df['year'] == 2016][col].values,\n",
    "                                        summary_stat=np.mean)\n",
    "    \n",
    "    node_text = utils.get_node_text(\n",
    "        dict(zip(range(len(node_elements)),\n",
    "                           node_elements)),\n",
    "             utils.get_n_electors(\n",
    "                 node_elements,\n",
    "                 df[df['year'] == 2016]['n_electors'].reset_index(drop=True)),\n",
    "             node_color,\n",
    "             col)\n",
    "    custom_plot_options = {\n",
    "        'node_trace_text': node_text,\n",
    "        'node_trace_marker_size': [1] * len(node_elements)}\n",
    "    custom_plot_options['node_trace_text'] = node_text\n",
    "    custom_plot_options['node_trace_marker_cmin'] = min(node_color)\n",
    "    custom_plot_options['node_trace_marker_cmax'] = max(node_color)\n",
    "    fig = visualize.create_network_2d(giant_component, pos, node_color, node_scale=20,\n",
    "                                      custom_plot_options=custom_plot_options)\n",
    "    fig.show()"
   ]
  },
  {
   "cell_type": "markdown",
   "metadata": {},
   "source": [
    "### Example for 3D Plot"
   ]
  },
  {
   "cell_type": "code",
   "execution_count": null,
   "metadata": {},
   "outputs": [],
   "source": [
    "node_elements = graph['node_metadata']['node_elements']\n",
    "pos = graph.layout('kamada_kawai_3d')\n",
    "\n",
    "node_color = utils.get_node_summary(node_elements,\n",
    "                                    df[df['year'] == 2016]['winner']\n",
    "                                    .values,\n",
    "                                    summary_stat=np.mean)\n",
    "\n",
    "node_text = utils.get_node_text(\n",
    "    dict(zip(range(len(node_elements)),\n",
    "                   node_elements)),\n",
    "         utils.get_n_electors(\n",
    "             node_elements,\n",
    "             df[df['year'] == 2016]['n_electors'].reset_index(drop=True)),\n",
    "         node_color,\n",
    "         'Number of Counties Won by Republicans')\n",
    "\n",
    "custom_plot_options = {\n",
    "    'node_trace_marker_colorscale': 'RdBu',\n",
    "    'node_trace_marker_reversescale': True,\n",
    "    'node_trace_hoverlabel': dict(\n",
    "        bgcolor=list(map(lambda x: rgb2hex(get_cmap('RdBu_r')(x)),\n",
    "                         node_color))),\n",
    "    'node_trace_text': node_text,\n",
    "    'node_trace_marker_size':\n",
    "    utils.get_n_electors(node_elements,\n",
    "                        df[df['year'] == 2016]['n_electors'].reset_index(drop=True)),\n",
    "    'node_trace_marker_sizeref':\n",
    "    .001 / max(utils.get_n_electors(node_elements,\n",
    "                                    df[df['year'] == 2016]['n_electors'].reset_index(drop=True)))}\n",
    "\n",
    "visualize.create_network_3d(graph, pos, node_color,\n",
    "                            node_scale=100, custom_plot_options=custom_plot_options)"
   ]
  },
  {
   "cell_type": "markdown",
   "metadata": {},
   "source": [
    "### Interactive"
   ]
  },
  {
   "cell_type": "code",
   "execution_count": null,
   "metadata": {},
   "outputs": [],
   "source": [
    "plotly_kwargs = {'custom_plot_options': {'node_trace_marker_reversescale': True,\n",
    "                                         'node_trace_marker_colorscale': 'RdBu'}}\n",
    "visualize.create_interactive_network(pipe, data_per_year['2016'],\n",
    "                                     plotly_kwargs=plotly_kwargs,\n",
    "                                     summary_stat=np.mean)"
   ]
  },
  {
   "cell_type": "code",
   "execution_count": null,
   "metadata": {},
   "outputs": [],
   "source": []
  }
 ],
 "metadata": {
  "kernelspec": {
   "display_name": "Python 3",
   "language": "python",
   "name": "python3"
  },
  "language_info": {
   "codemirror_mode": {
    "name": "ipython",
    "version": 3
   },
   "file_extension": ".py",
   "mimetype": "text/x-python",
   "name": "python",
   "nbconvert_exporter": "python",
   "pygments_lexer": "ipython3",
   "version": "3.7.5"
  }
 },
 "nbformat": 4,
 "nbformat_minor": 2
}
