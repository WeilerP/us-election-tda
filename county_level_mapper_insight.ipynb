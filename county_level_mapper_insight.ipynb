{
 "cells": [
  {
   "cell_type": "markdown",
   "metadata": {},
   "source": [
    "# U.S. Presidential Election\n",
    "## Libraries"
   ]
  },
  {
   "cell_type": "code",
   "execution_count": null,
   "metadata": {},
   "outputs": [],
   "source": [
    "%load_ext autoreload\n",
    "%autoreload 2"
   ]
  },
  {
   "cell_type": "code",
   "execution_count": null,
   "metadata": {},
   "outputs": [],
   "source": [
    "import warnings\n",
    "warnings.simplefilter('ignore')\n",
    "\n",
    "import sys\n",
    "\n",
    "import os\n",
    "import pandas as pd\n",
    "import numpy as np\n",
    "import matplotlib.pyplot as plt\n",
    "import matplotlib.colors\n",
    "from matplotlib.cm import get_cmap\n",
    "from matplotlib.colors import rgb2hex\n",
    "\n",
    "import seaborn as sns\n",
    "sns.set()\n",
    "\n",
    "import utils\n",
    "\n",
    "import networkx as nx\n",
    "\n",
    "from giotto.mapper import mapper as mp\n",
    "from giotto.mapper import visualize\n",
    "\n",
    "from giotto.mapper.cover import CubicalCover\n",
    "from giotto.mapper.cover import OneDimensionalCover\n",
    "from giotto.mapper.cluster import FirstSimpleGap\n",
    "from giotto.mapper.cluster import FirstHistogramGap\n",
    "\n",
    "from sklearn.decomposition import PCA\n",
    "from sklearn.pipeline import Pipeline\n",
    "from sklearn.preprocessing import FunctionTransformer"
   ]
  },
  {
   "cell_type": "code",
   "execution_count": null,
   "metadata": {},
   "outputs": [],
   "source": [
    "df = pd.read_pickle(os.path.join('data',\n",
    "                                 'usa_election_full_dataset.pickle'))\n",
    "\n",
    "df.head()"
   ]
  },
  {
   "cell_type": "code",
   "execution_count": null,
   "metadata": {},
   "outputs": [],
   "source": [
    "data = utils.get_data(df)\n",
    "data_per_year = utils.split_data_by_year(data, df)"
   ]
  },
  {
   "cell_type": "markdown",
   "metadata": {},
   "source": [
    "## Utility Functions"
   ]
  },
  {
   "cell_type": "code",
   "execution_count": null,
   "metadata": {},
   "outputs": [],
   "source": [
    "def filter_2d_trafo(x):\n",
    "    x[:, 0] = np.log(x[:, 0] - min(x[:, 0]) + 1)\n",
    "    x[:, 1] = np.log(np.abs(x[:, 1]) + 1)\n",
    "    return x"
   ]
  },
  {
   "cell_type": "code",
   "execution_count": null,
   "metadata": {},
   "outputs": [],
   "source": [
    "def get_n_electors(node_elements, n_electors):\n",
    "    return [100 * n_electors.iloc[x].sum() / 535 for x in node_elements]"
   ]
  },
  {
   "cell_type": "code",
   "execution_count": null,
   "metadata": {},
   "outputs": [],
   "source": [
    "def get_node_text(node_elements, n_electors):\n",
    "    return list(map(lambda x, y: f'Node Id: {x[0]}<br>Node size: {len(x[1])}<br>Number of Electors: {y}',\n",
    "                    node_elements.items(), n_electors))"
   ]
  },
  {
   "cell_type": "markdown",
   "metadata": {},
   "source": [
    "#### 2D PCA"
   ]
  },
  {
   "cell_type": "code",
   "execution_count": null,
   "metadata": {},
   "outputs": [],
   "source": [
    "pca = PCA(n_components=2)"
   ]
  },
  {
   "cell_type": "code",
   "execution_count": null,
   "metadata": {},
   "outputs": [],
   "source": [
    "pipe = mp.make_mapper_pipeline()\n",
    "graph = pipe.fit_transform(data_per_year['2016'])"
   ]
  },
  {
   "cell_type": "code",
   "execution_count": null,
   "metadata": {},
   "outputs": [],
   "source": [
    "node_elements = graph['node_metadata']['node_elements']\n",
    "pos = graph.layout('kamada_kawai')\n",
    "\n",
    "node_text = get_node_text(dict(zip(range(len(node_elements)),\n",
    "                                   node_elements)),\n",
    "                          get_n_electors(node_elements,\n",
    "                                         df[df['year'] == 2016]['n_electors'].reset_index(drop=True)))\n",
    "\n",
    "node_color = utils.get_node_summary(node_elements,\n",
    "                                    df[df['year'] == 2016]['winner'].values,\n",
    "                                    summary_stat=np.mean)\n",
    "\n",
    "custom_plot_options = {'node_trace_marker_colorscale': 'RdBu',\n",
    "                       'node_trace_marker_reversescale': True,\n",
    "                       'node_trace_text': node_text,\n",
    "                       'node_trace_marker_size':\n",
    "                       get_n_electors(node_elements,\n",
    "                                      df[df['year'] == 2016]['n_electors'].reset_index(drop=True)),\n",
    "                      'node_trace_marker_sizeref':\n",
    "                      .5 / max(get_n_electors(node_elements,\n",
    "                                         df[df['year'] == 2016]['n_electors'].reset_index(drop=True)))}\n",
    "\n",
    "visualize.create_network_2d(graph, pos, node_color, node_scale=20,\n",
    "                            custom_plot_options=custom_plot_options)"
   ]
  },
  {
   "cell_type": "code",
   "execution_count": null,
   "metadata": {},
   "outputs": [],
   "source": [
    "num_cols, _, _ = utils.get_cols_by_type()\n",
    "\n",
    "for col in num_cols:\n",
    "    print(f'-- {col}  --')\n",
    "    node_color = utils.get_node_summary(node_elements,\n",
    "                                    df[df['year'] == 2016][col].values,\n",
    "                                    summary_stat=np.mean)\n",
    "    fig = visualize.create_network_2d(graph, pos, node_color, node_scale=20,\n",
    "                            custom_plot_options=custom_plot_options)\n",
    "    fig.show()"
   ]
  },
  {
   "cell_type": "markdown",
   "metadata": {},
   "source": [
    "#### Custom PCA Filter"
   ]
  },
  {
   "cell_type": "code",
   "execution_count": null,
   "metadata": {},
   "outputs": [],
   "source": [
    "filtr_vals = pca.fit_transform(data_per_year['2016'])\n",
    "\n",
    "fig, ax = plt.subplots(nrows=2, ncols=2, figsize=(15, 10))\n",
    "\n",
    "# pca 1\n",
    "(sns.distplot(filtr_vals[:, 0],\n",
    "              ax=ax[0, 0])\n",
    " .set_title('Original PCA 1'))\n",
    "(sns.distplot(np.log(filtr_vals[:, 0] - min(filtr_vals[:, 0]) + 1),\n",
    "              ax=ax[1, 0])\n",
    " .set_title('Transformed PCA 1'))\n",
    "\n",
    "# pca 2\n",
    "(sns.distplot(filtr_vals[:, 1],\n",
    "              ax=ax[0, 1])\n",
    " .set_title('PCA 2'))\n",
    "(sns.distplot(np.log(np.abs(filtr_vals[:, 1]) + 1),\n",
    "              ax=ax[1, 1])\n",
    " .set_title('Transformed PCA 2'));"
   ]
  },
  {
   "cell_type": "code",
   "execution_count": null,
   "metadata": {},
   "outputs": [],
   "source": [
    "# n_intervals=10, overlap_frac=0.1\n",
    "# n_intervals=10, overlap_frac=0.15\n",
    "n_intervals = 10\n",
    "overlap_frac = 0.1\n",
    "filter_func = Pipeline([('pca', pca),\n",
    "                        ('trafo', FunctionTransformer(filter_2d_trafo))])\n",
    "\n",
    "cover = CubicalCover(n_intervals=n_intervals,\n",
    "                     overlap_frac=overlap_frac)\n",
    "\n",
    "relative_gap_size = 0.9\n",
    "affinity = 'correlation'\n",
    "linkage = 'complete'\n",
    "\n",
    "clusterer = FirstSimpleGap(relative_gap_size=relative_gap_size,\n",
    "                           affinity=affinity,\n",
    "                           linkage=linkage)"
   ]
  },
  {
   "cell_type": "code",
   "execution_count": null,
   "metadata": {},
   "outputs": [],
   "source": [
    "pipe = mp.make_mapper_pipeline(filter_func=filter_func,\n",
    "                               cover=cover)\n",
    "graph = pipe.fit_transform(data_per_year['2016'])"
   ]
  },
  {
   "cell_type": "markdown",
   "metadata": {},
   "source": [
    "### 2016 - Winner"
   ]
  },
  {
   "cell_type": "code",
   "execution_count": null,
   "metadata": {},
   "outputs": [],
   "source": [
    "node_elements = graph['node_metadata']['node_elements']\n",
    "pos = graph.layout('kamada_kawai')\n",
    "\n",
    "node_text = get_node_text(dict(zip(range(len(node_elements)),\n",
    "                                   node_elements)),\n",
    "                          get_n_electors(node_elements,\n",
    "                                         df[df['year'] == 2016]['n_electors'].reset_index(drop=True)))\n",
    "\n",
    "node_color = utils.get_node_summary(node_elements,\n",
    "                                    df[df['year'] == 2016]['winner'].values,\n",
    "                                    summary_stat=np.mean)\n",
    "\n",
    "custom_plot_options = {'node_trace_marker_colorscale': 'RdBu',\n",
    "                       'node_trace_marker_reversescale': True,\n",
    "                       'node_trace_text': node_text,\n",
    "                       'node_trace_marker_size':\n",
    "                       get_n_electors(node_elements,\n",
    "                                      df[df['year'] == 2016]['n_electors'].reset_index(drop=True)),\n",
    "                      'node_trace_marker_sizeref':\n",
    "                      .5 / max(get_n_electors(node_elements,\n",
    "                                         df[df['year'] == 2016]['n_electors'].reset_index(drop=True)))}\n",
    "\n",
    "visualize.create_network_2d(graph, pos, node_color, node_scale=20,\n",
    "                            custom_plot_options=custom_plot_options)"
   ]
  },
  {
   "cell_type": "code",
   "execution_count": null,
   "metadata": {},
   "outputs": [],
   "source": [
    "num_cols, _, _ = utils.get_cols_by_type()\n",
    "\n",
    "for col in num_cols:\n",
    "    print(f'-- {col}  --')\n",
    "    node_color = utils.get_node_summary(node_elements,\n",
    "                                    df[df['year'] == 2016][col].values,\n",
    "                                    summary_stat=np.mean)\n",
    "    fig = visualize.create_network_2d(graph, pos, node_color, node_scale=20,\n",
    "                            custom_plot_options=custom_plot_options)\n",
    "    fig.show()"
   ]
  },
  {
   "cell_type": "markdown",
   "metadata": {},
   "source": [
    "### 2012 - Winner"
   ]
  },
  {
   "cell_type": "code",
   "execution_count": null,
   "metadata": {},
   "outputs": [],
   "source": [
    "node_text = get_node_text(dict(zip(range(len(node_elements)),\n",
    "                                   node_elements)))\n",
    "\n",
    "node_color = utils.get_node_summary(node_elements,\n",
    "                                    df[df['year'] == 2012]['winner'].values,\n",
    "                                    summary_stat=np.mean)\n",
    "\n",
    "custom_plot_options = {'node_trace_marker_colorscale': 'RdBu',\n",
    "                       'node_trace_marker_reversescale': True,\n",
    "                       'node_trace_text': node_text}\n",
    "\n",
    "visualize.create_network_2d(graph, pos, node_color, node_scale=20,\n",
    "                            custom_plot_options=custom_plot_options)"
   ]
  },
  {
   "cell_type": "markdown",
   "metadata": {},
   "source": [
    "### 2008 - Winner"
   ]
  },
  {
   "cell_type": "code",
   "execution_count": null,
   "metadata": {},
   "outputs": [],
   "source": [
    "node_text = get_node_text(dict(zip(range(len(node_elements)),\n",
    "                                   node_elements)))\n",
    "\n",
    "node_color = utils.get_node_summary(node_elements,\n",
    "                                    df[df['year'] == 2008]['winner'].values,\n",
    "                                    summary_stat=np.mean)\n",
    "\n",
    "custom_plot_options = {'node_trace_marker_colorscale': 'RdBu',\n",
    "                       'node_trace_marker_reversescale': True,\n",
    "                       'node_trace_text': node_text}\n",
    "\n",
    "visualize.create_network_2d(graph, pos, node_color, node_scale=20,\n",
    "                            custom_plot_options=custom_plot_options)"
   ]
  },
  {
   "cell_type": "markdown",
   "metadata": {},
   "source": [
    "### 2004 - Winner"
   ]
  },
  {
   "cell_type": "code",
   "execution_count": null,
   "metadata": {},
   "outputs": [],
   "source": [
    "node_text = get_node_text(dict(zip(range(len(node_elements)),\n",
    "                                   node_elements)))\n",
    "\n",
    "node_color = utils.get_node_summary(node_elements,\n",
    "                                    df[df['year'] == 2004]['winner'].values,\n",
    "                                    summary_stat=np.mean)\n",
    "\n",
    "custom_plot_options = {'node_trace_marker_colorscale': 'RdBu',\n",
    "                       'node_trace_marker_reversescale': True,\n",
    "                       'node_trace_text': node_text}\n",
    "\n",
    "visualize.create_network_2d(graph, pos, node_color, node_scale=20,\n",
    "                            custom_plot_options=custom_plot_options)"
   ]
  },
  {
   "cell_type": "markdown",
   "metadata": {},
   "source": [
    "### 2000 - Winner"
   ]
  },
  {
   "cell_type": "code",
   "execution_count": null,
   "metadata": {},
   "outputs": [],
   "source": [
    "node_text = get_node_text(dict(zip(range(len(node_elements)),\n",
    "                                   node_elements)))\n",
    "\n",
    "node_color = utils.get_node_summary(node_elements,\n",
    "                                    df[df['year'] == 2000]['winner'].values,\n",
    "                                    summary_stat=np.mean)\n",
    "\n",
    "custom_plot_options = {'node_trace_marker_colorscale': 'RdBu',\n",
    "                       'node_trace_marker_reversescale': True,\n",
    "                       'node_trace_text': node_text}\n",
    "\n",
    "visualize.create_network_2d(graph, pos, node_color, node_scale=20,\n",
    "                            custom_plot_options=custom_plot_options)"
   ]
  },
  {
   "cell_type": "markdown",
   "metadata": {},
   "source": [
    "### Example for 3D Plot"
   ]
  },
  {
   "cell_type": "code",
   "execution_count": null,
   "metadata": {},
   "outputs": [],
   "source": [
    "seed = 14\n",
    "pos = nx.spring_layout(graph, seed=seed, dim=3)\n",
    "\n",
    "node_color = utils.get_node_summary(node_elements, data_per_year['2016'])\n",
    "\n",
    "custom_plot_options = {'node_trace_marker_colorscale': 'RdBu',\n",
    "                       'node_trace_marker_reversescale': True,\n",
    "                       'node_trace_hoverlabel': dict(\n",
    "                            bgcolor=list(map(lambda x: rgb2hex(get_cmap('RdBu_r')(x)),\n",
    "                                             node_color)))}\n",
    "\n",
    "visualize.create_network_3d(graph, pos, node_color,\n",
    "                            node_scale=100, custom_plot_options=custom_plot_options)"
   ]
  },
  {
   "cell_type": "markdown",
   "metadata": {},
   "source": [
    "### Interactive"
   ]
  },
  {
   "cell_type": "code",
   "execution_count": null,
   "metadata": {},
   "outputs": [],
   "source": [
    "plotly_kwargs = {'custom_plot_options': {'node_trace_marker_reversescale': True,\n",
    "                                         'node_trace_marker_colorscale': 'RdBu'}}\n",
    "visualize.create_interactive_network(pipe, data_per_year['2016'],\n",
    "                                     plotly_kwargs=plotly_kwargs,\n",
    "                                     summary_stat=np.mean)"
   ]
  },
  {
   "cell_type": "code",
   "execution_count": null,
   "metadata": {},
   "outputs": [],
   "source": []
  }
 ],
 "metadata": {
  "kernelspec": {
   "display_name": "Python 3",
   "language": "python",
   "name": "python3"
  },
  "language_info": {
   "codemirror_mode": {
    "name": "ipython",
    "version": 3
   },
   "file_extension": ".py",
   "mimetype": "text/x-python",
   "name": "python",
   "nbconvert_exporter": "python",
   "pygments_lexer": "ipython3",
   "version": "3.7.5"
  }
 },
 "nbformat": 4,
 "nbformat_minor": 2
}
