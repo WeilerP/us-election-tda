{
 "cells": [
  {
   "cell_type": "markdown",
   "metadata": {},
   "source": [
    "# U.S. Presidential Election - State Level"
   ]
  },
  {
   "cell_type": "markdown",
   "metadata": {},
   "source": [
    "## Libraries"
   ]
  },
  {
   "cell_type": "code",
   "execution_count": 2,
   "metadata": {},
   "outputs": [
    {
     "name": "stdout",
     "output_type": "stream",
     "text": [
      "../lmapper/cpp/filterutils\n"
     ]
    },
    {
     "name": "stderr",
     "output_type": "stream",
     "text": [
      "Warning: Could not load the C++ module “filterutils”.\n",
      "The Python implementation of the eccentricity is used instead, but it will be slower.\n",
      "Warning: Could not load the module “filterutils”.\n",
      "The scipy.distance.cdist implementation is used instead.\n"
     ]
    }
   ],
   "source": [
    "import warnings\n",
    "warnings.simplefilter('ignore')\n",
    "\n",
    "import requests\n",
    "import lxml.html as lh\n",
    "\n",
    "import sys\n",
    "\n",
    "import os\n",
    "import pandas as pd\n",
    "import numpy as np\n",
    "import matplotlib.pyplot as plt\n",
    "import matplotlib.colors\n",
    "\n",
    "import seaborn as sns\n",
    "sns.set()\n",
    "\n",
    "from sklearn.preprocessing import StandardScaler\n",
    "\n",
    "import networkx as nx\n",
    "import plotly.graph_objects as go\n",
    "\n",
    "sys.path.append('..')\n",
    "from lmapper.filter import Projection\n",
    "from lmapper.filter import Filter\n",
    "\n",
    "from lmapper.cutoff import FirstGap\n",
    "\n",
    "from utils import get_node_size, get_mean_node, get_mapper\n",
    "from filters import SvdFilter, LpFilter\n",
    "from plotting import nx_plot_mapper"
   ]
  },
  {
   "cell_type": "code",
   "execution_count": 3,
   "metadata": {},
   "outputs": [],
   "source": [
    "cmap = matplotlib.colors.LinearSegmentedColormap.from_list(\"\",\n",
    "                                                           [\"blue\", \"violet\", \"red\"])\n",
    "cmap_inv = matplotlib.colors.LinearSegmentedColormap.from_list(\"\",\n",
    "                                                               [\"red\", \"violet\", \"blue\"])"
   ]
  },
  {
   "cell_type": "markdown",
   "metadata": {},
   "source": [
    "## Data"
   ]
  },
  {
   "cell_type": "code",
   "execution_count": 9,
   "metadata": {},
   "outputs": [
    {
     "data": {
      "text/html": [
       "<div>\n",
       "<style scoped>\n",
       "    .dataframe tbody tr th:only-of-type {\n",
       "        vertical-align: middle;\n",
       "    }\n",
       "\n",
       "    .dataframe tbody tr th {\n",
       "        vertical-align: top;\n",
       "    }\n",
       "\n",
       "    .dataframe thead th {\n",
       "        text-align: right;\n",
       "    }\n",
       "</style>\n",
       "<table border=\"1\" class=\"dataframe\">\n",
       "  <thead>\n",
       "    <tr style=\"text-align: right;\">\n",
       "      <th></th>\n",
       "      <th>year</th>\n",
       "      <th>state</th>\n",
       "      <th>republican</th>\n",
       "      <th>democrat</th>\n",
       "      <th>total_votes</th>\n",
       "      <th>winner</th>\n",
       "      <th>winner</th>\n",
       "      <th>white</th>\n",
       "      <th>black</th>\n",
       "      <th>hispanic</th>\n",
       "      <th>...</th>\n",
       "      <th>Farm proprietors' income</th>\n",
       "      <th>Nonfarm proprietors' income</th>\n",
       "      <th>Total employment (number of jobs)</th>\n",
       "      <th>Wage and salary employment</th>\n",
       "      <th>Proprietors employment</th>\n",
       "      <th>Farm proprietors employment 6/</th>\n",
       "      <th>Nonfarm proprietors employment</th>\n",
       "      <th>Average earnings per job (dollars)</th>\n",
       "      <th>Average wages and salaries</th>\n",
       "      <th>Average nonfarm proprietors' income</th>\n",
       "    </tr>\n",
       "  </thead>\n",
       "  <tbody>\n",
       "    <tr>\n",
       "      <td>0</td>\n",
       "      <td>2008</td>\n",
       "      <td>Alabama</td>\n",
       "      <td>1266546.0</td>\n",
       "      <td>813479.0</td>\n",
       "      <td>2099819.0</td>\n",
       "      <td>1</td>\n",
       "      <td>1</td>\n",
       "      <td>0.69</td>\n",
       "      <td>0.26</td>\n",
       "      <td>0.03</td>\n",
       "      <td>...</td>\n",
       "      <td>649336.0</td>\n",
       "      <td>7926772.0</td>\n",
       "      <td>2582591.0</td>\n",
       "      <td>2075014.0</td>\n",
       "      <td>507577.0</td>\n",
       "      <td>41846.0</td>\n",
       "      <td>465731.0</td>\n",
       "      <td>2315177.0</td>\n",
       "      <td>2180875.0</td>\n",
       "      <td>920963.0</td>\n",
       "    </tr>\n",
       "    <tr>\n",
       "      <td>1</td>\n",
       "      <td>2008</td>\n",
       "      <td>Arizona</td>\n",
       "      <td>1230111.0</td>\n",
       "      <td>1034707.0</td>\n",
       "      <td>2293475.0</td>\n",
       "      <td>1</td>\n",
       "      <td>1</td>\n",
       "      <td>0.58</td>\n",
       "      <td>0.03</td>\n",
       "      <td>0.30</td>\n",
       "      <td>...</td>\n",
       "      <td>164489.0</td>\n",
       "      <td>12825584.0</td>\n",
       "      <td>3402808.0</td>\n",
       "      <td>2706550.0</td>\n",
       "      <td>696258.0</td>\n",
       "      <td>15640.0</td>\n",
       "      <td>680618.0</td>\n",
       "      <td>615109.0</td>\n",
       "      <td>568980.0</td>\n",
       "      <td>281868.0</td>\n",
       "    </tr>\n",
       "    <tr>\n",
       "      <td>2</td>\n",
       "      <td>2008</td>\n",
       "      <td>Arkansas</td>\n",
       "      <td>638017.0</td>\n",
       "      <td>422310.0</td>\n",
       "      <td>1086617.0</td>\n",
       "      <td>1</td>\n",
       "      <td>1</td>\n",
       "      <td>0.76</td>\n",
       "      <td>0.15</td>\n",
       "      <td>0.06</td>\n",
       "      <td>...</td>\n",
       "      <td>1293949.0</td>\n",
       "      <td>4710266.0</td>\n",
       "      <td>1579283.0</td>\n",
       "      <td>1259243.0</td>\n",
       "      <td>320040.0</td>\n",
       "      <td>43259.0</td>\n",
       "      <td>276781.0</td>\n",
       "      <td>2461330.0</td>\n",
       "      <td>2225313.0</td>\n",
       "      <td>1160377.0</td>\n",
       "    </tr>\n",
       "    <tr>\n",
       "      <td>3</td>\n",
       "      <td>2008</td>\n",
       "      <td>California</td>\n",
       "      <td>5011781.0</td>\n",
       "      <td>8274473.0</td>\n",
       "      <td>13561900.0</td>\n",
       "      <td>0</td>\n",
       "      <td>0</td>\n",
       "      <td>0.42</td>\n",
       "      <td>0.06</td>\n",
       "      <td>0.37</td>\n",
       "      <td>...</td>\n",
       "      <td>5313632.0</td>\n",
       "      <td>132504105.0</td>\n",
       "      <td>20654292.0</td>\n",
       "      <td>16052090.0</td>\n",
       "      <td>4602202.0</td>\n",
       "      <td>66821.0</td>\n",
       "      <td>4535381.0</td>\n",
       "      <td>2788973.0</td>\n",
       "      <td>2444581.0</td>\n",
       "      <td>1575989.0</td>\n",
       "    </tr>\n",
       "    <tr>\n",
       "      <td>4</td>\n",
       "      <td>2008</td>\n",
       "      <td>Colorado</td>\n",
       "      <td>1073589.0</td>\n",
       "      <td>1288576.0</td>\n",
       "      <td>2401361.0</td>\n",
       "      <td>0</td>\n",
       "      <td>0</td>\n",
       "      <td>0.71</td>\n",
       "      <td>0.03</td>\n",
       "      <td>0.20</td>\n",
       "      <td>...</td>\n",
       "      <td>421290.0</td>\n",
       "      <td>15291916.0</td>\n",
       "      <td>3251097.0</td>\n",
       "      <td>2474409.0</td>\n",
       "      <td>776688.0</td>\n",
       "      <td>32689.0</td>\n",
       "      <td>743999.0</td>\n",
       "      <td>2275999.0</td>\n",
       "      <td>2271439.0</td>\n",
       "      <td>1113688.0</td>\n",
       "    </tr>\n",
       "  </tbody>\n",
       "</table>\n",
       "<p>5 rows × 45 columns</p>\n",
       "</div>"
      ],
      "text/plain": [
       "   year       state  republican   democrat  total_votes  winner  winner  \\\n",
       "0  2008     Alabama   1266546.0   813479.0    2099819.0       1       1   \n",
       "1  2008     Arizona   1230111.0  1034707.0    2293475.0       1       1   \n",
       "2  2008    Arkansas    638017.0   422310.0    1086617.0       1       1   \n",
       "3  2008  California   5011781.0  8274473.0   13561900.0       0       0   \n",
       "4  2008    Colorado   1073589.0  1288576.0    2401361.0       0       0   \n",
       "\n",
       "   white  black  hispanic  ...  Farm proprietors' income  \\\n",
       "0   0.69   0.26      0.03  ...                  649336.0   \n",
       "1   0.58   0.03      0.30  ...                  164489.0   \n",
       "2   0.76   0.15      0.06  ...                 1293949.0   \n",
       "3   0.42   0.06      0.37  ...                 5313632.0   \n",
       "4   0.71   0.03      0.20  ...                  421290.0   \n",
       "\n",
       "   Nonfarm proprietors' income  Total employment (number of jobs)  \\\n",
       "0                    7926772.0                          2582591.0   \n",
       "1                   12825584.0                          3402808.0   \n",
       "2                    4710266.0                          1579283.0   \n",
       "3                  132504105.0                         20654292.0   \n",
       "4                   15291916.0                          3251097.0   \n",
       "\n",
       "   Wage and salary employment  Proprietors employment  \\\n",
       "0                   2075014.0                507577.0   \n",
       "1                   2706550.0                696258.0   \n",
       "2                   1259243.0                320040.0   \n",
       "3                  16052090.0               4602202.0   \n",
       "4                   2474409.0                776688.0   \n",
       "\n",
       "   Farm proprietors employment 6/  Nonfarm proprietors employment  \\\n",
       "0                         41846.0                        465731.0   \n",
       "1                         15640.0                        680618.0   \n",
       "2                         43259.0                        276781.0   \n",
       "3                         66821.0                       4535381.0   \n",
       "4                         32689.0                        743999.0   \n",
       "\n",
       "   Average earnings per job (dollars)  Average wages and salaries  \\\n",
       "0                           2315177.0                   2180875.0   \n",
       "1                            615109.0                    568980.0   \n",
       "2                           2461330.0                   2225313.0   \n",
       "3                           2788973.0                   2444581.0   \n",
       "4                           2275999.0                   2271439.0   \n",
       "\n",
       "   Average nonfarm proprietors' income  \n",
       "0                             920963.0  \n",
       "1                             281868.0  \n",
       "2                            1160377.0  \n",
       "3                            1575989.0  \n",
       "4                            1113688.0  \n",
       "\n",
       "[5 rows x 45 columns]"
      ]
     },
     "execution_count": 9,
     "metadata": {},
     "output_type": "execute_result"
    }
   ],
   "source": [
    "df = (pd.read_pickle(os.path.join('data',\n",
    "                                  'usa_election_full_dataset.pickle'))\n",
    "      .drop(columns=['county', 'winner', 'fips', 'pres'])\n",
    "      .groupby(['year', 'state'])\n",
    "      .sum()\n",
    "      .dropna()\n",
    "      .reset_index())\n",
    "df['winner'] = (df['republican'] > df['democrat']).astype('int')\n",
    "\n",
    "num_cols = ['Personal income (thousands of dollars)',\n",
    "            'Net earnings by place of residence',\n",
    "            'Personal current transfer receipts',\n",
    "            'Income maintenance benefits 1/',\n",
    "            'Unemployment insurance compensation',\n",
    "            'Retirement and other',\n",
    "            'Dividends, interest, and rent 2/',\n",
    "            'Population (persons) 3/',\n",
    "            'Per capita personal income 4/',\n",
    "            'Per capita net earnings 4/',\n",
    "            'Per capita personal current transfer receipts 4/',\n",
    "            'Per capita income maintenance benefits 4/',\n",
    "            'Per capita unemployment insurance compensation 4/',\n",
    "            'Per capita retirement and other 4/',\n",
    "            'Per capita dividends, interest, and rent 4/',\n",
    "            'Earnings by place of work',\n",
    "            'Wages and salaries',\n",
    "            'Supplements to wages and salaries',\n",
    "            'Employer contributions for employee pension and insurance funds 5/',\n",
    "            'Employer contributions for government social insurance',\n",
    "            \"Proprietors' income\",\n",
    "            \"Farm proprietors' income\",\n",
    "            \"Nonfarm proprietors' income\",\n",
    "            'Total employment (number of jobs)',\n",
    "            'Wage and salary employment',\n",
    "            'Proprietors employment',\n",
    "            'Farm proprietors employment 6/',\n",
    "            'Nonfarm proprietors employment',\n",
    "            'Average earnings per job (dollars)',\n",
    "            'Average wages and salaries',\n",
    "            \"Average nonfarm proprietors' income\"]\n",
    "\n",
    "info_cols = ['year', 'state']\n",
    "\n",
    "\n",
    "elec_cols = ['republican', 'democrat', 'total_votes',\n",
    "             'winner']\n",
    "\n",
    "\n",
    "\n",
    "df = df[info_cols + elec_cols + num_cols]\n",
    "df.head()"
   ]
  },
  {
   "cell_type": "code",
   "execution_count": null,
   "metadata": {},
   "outputs": [],
   "source": [
    "scaler = StandardScaler()\n",
    "df[num_cols] = scaler.fit_transform(df[num_cols])\n",
    "df.head()"
   ]
  },
  {
   "cell_type": "code",
   "execution_count": null,
   "metadata": {},
   "outputs": [],
   "source": [
    "data = df[df.columns.difference(['year', 'state',\n",
    "                                 'republican',\n",
    "                                 'democrat',\n",
    "                                 'total_votes'])].values\n",
    "\n",
    "row_years = dict(zip(df['year'].unique(),\n",
    "                     map(lambda x: df[df['year'] == x].index,\n",
    "                         df['year'].unique())))\n",
    "\n",
    "data_per_year = list(map(lambda x: data[x, :], list(row_years.values())))"
   ]
  },
  {
   "cell_type": "markdown",
   "metadata": {},
   "source": [
    "### Mapper\n",
    "#### SVD Filter"
   ]
  },
  {
   "cell_type": "code",
   "execution_count": null,
   "metadata": {},
   "outputs": [],
   "source": [
    "n_components = 1\n",
    "\n",
    "nintervals = 7\n",
    "overlap = 0.9\n",
    "\n",
    "method = 'complete'\n",
    "metric = 'correlation'\n",
    "cutoff = FirstGap(0.2)\n",
    "\n",
    "filtr = SvdFilter(n_components=n_components)"
   ]
  },
  {
   "cell_type": "markdown",
   "metadata": {},
   "source": [
    "##### 2000"
   ]
  },
  {
   "cell_type": "code",
   "execution_count": null,
   "metadata": {},
   "outputs": [],
   "source": [
    "mapper = get_mapper(filtr, nintervals, overlap, method,\n",
    "                    metric, cutoff, data_per_year[0])\n",
    "mapper.fit(verbose=0)\n",
    "nx_plot_mapper(mapper, cmap=cmap,\n",
    "               node_color=get_mean_node(mapper,\n",
    "                                        df=df,\n",
    "                                        col='winner'),\n",
    "               pos=nx.spring_layout(mapper.complex._graph, seed=0))"
   ]
  },
  {
   "cell_type": "code",
   "execution_count": null,
   "metadata": {},
   "outputs": [],
   "source": [
    "nx_plot_mapper(mapper, cmap=cmap,\n",
    "               node_color=get_mean_node(mapper,\n",
    "                                        df=df,\n",
    "                                        col='Per capita net earnings 4/'),\n",
    "               pos=nx.spring_layout(mapper.complex._graph, seed=0))"
   ]
  },
  {
   "cell_type": "markdown",
   "metadata": {},
   "source": [
    "##### 2004"
   ]
  },
  {
   "cell_type": "code",
   "execution_count": null,
   "metadata": {},
   "outputs": [],
   "source": [
    "mapper = get_mapper(filtr, nintervals, overlap, method,\n",
    "                    metric, cutoff, data_per_year[1])\n",
    "mapper.fit(verbose=0)\n",
    "nx_plot_mapper(mapper, cmap=cmap,\n",
    "               node_color=get_mean_node(mapper,\n",
    "                                        df=df,\n",
    "                                        col='winner'),\n",
    "               pos=nx.spring_layout(mapper.complex._graph, seed=0))"
   ]
  },
  {
   "cell_type": "code",
   "execution_count": null,
   "metadata": {},
   "outputs": [],
   "source": [
    "nx_plot_mapper(mapper, cmap=cmap,\n",
    "               node_color=get_mean_node(mapper,\n",
    "                                        df=df,\n",
    "                                        col='Per capita net earnings 4/'),\n",
    "               pos=nx.spring_layout(mapper.complex._graph, seed=0))"
   ]
  },
  {
   "cell_type": "markdown",
   "metadata": {},
   "source": [
    "##### 2008"
   ]
  },
  {
   "cell_type": "code",
   "execution_count": null,
   "metadata": {},
   "outputs": [],
   "source": [
    "mapper = get_mapper(filtr, nintervals, overlap, method,\n",
    "                    metric, cutoff, data_per_year[2])\n",
    "mapper.fit(verbose=0)\n",
    "nx_plot_mapper(mapper, cmap=cmap,\n",
    "               node_color=get_mean_node(mapper,\n",
    "                                        df=df,\n",
    "                                        col='winner'),\n",
    "               pos=nx.spring_layout(mapper.complex._graph, seed=0))"
   ]
  },
  {
   "cell_type": "code",
   "execution_count": null,
   "metadata": {},
   "outputs": [],
   "source": [
    "nx_plot_mapper(mapper, cmap=cmap,\n",
    "               node_color=get_mean_node(mapper,\n",
    "                                        df=df,\n",
    "                                        col='Per capita net earnings 4/'),\n",
    "               pos=nx.spring_layout(mapper.complex._graph, seed=0))"
   ]
  },
  {
   "cell_type": "markdown",
   "metadata": {},
   "source": [
    "##### 2012"
   ]
  },
  {
   "cell_type": "code",
   "execution_count": null,
   "metadata": {},
   "outputs": [],
   "source": [
    "mapper = get_mapper(filtr, nintervals, overlap, method,\n",
    "                    metric, cutoff, data_per_year[3])\n",
    "mapper.fit(verbose=0)\n",
    "nx_plot_mapper(mapper, cmap=cmap,\n",
    "               node_color=get_mean_node(mapper,\n",
    "                                        df=df,\n",
    "                                        col='winner'),\n",
    "               pos=nx.spring_layout(mapper.complex._graph, seed=0))"
   ]
  },
  {
   "cell_type": "code",
   "execution_count": null,
   "metadata": {},
   "outputs": [],
   "source": [
    "nx_plot_mapper(mapper, cmap=cmap,\n",
    "               node_color=get_mean_node(mapper,\n",
    "                                        df=df,\n",
    "                                        col='Per capita net earnings 4/'),\n",
    "               pos=nx.spring_layout(mapper.complex._graph, seed=0))"
   ]
  },
  {
   "cell_type": "markdown",
   "metadata": {},
   "source": [
    "##### 2016"
   ]
  },
  {
   "cell_type": "code",
   "execution_count": null,
   "metadata": {},
   "outputs": [],
   "source": [
    "mapper = get_mapper(filtr, nintervals, overlap, method,\n",
    "                    metric, cutoff, data_per_year[4])\n",
    "mapper.fit(verbose=0)\n",
    "nx_plot_mapper(mapper, cmap=cmap,\n",
    "               node_color=get_mean_node(mapper,\n",
    "                                        df=df,\n",
    "                                        col='winner'),\n",
    "               pos=nx.spring_layout(mapper.complex._graph, seed=0))"
   ]
  },
  {
   "cell_type": "code",
   "execution_count": null,
   "metadata": {},
   "outputs": [],
   "source": [
    "nx_plot_mapper(mapper, cmap=cmap,\n",
    "               node_color=get_mean_node(mapper,\n",
    "                                        df=df,\n",
    "                                        col='Per capita net earnings 4/'),\n",
    "               pos=nx.spring_layout(mapper.complex._graph, seed=0))"
   ]
  },
  {
   "cell_type": "markdown",
   "metadata": {},
   "source": [
    "<hr style=\"border: 1px dashed rgb(255,255,255)\" color=rgb(0,0,0) size=\"6\">\n",
    "\n",
    "#### Projection"
   ]
  },
  {
   "cell_type": "code",
   "execution_count": null,
   "metadata": {},
   "outputs": [],
   "source": [
    "ax = 3\n",
    "\n",
    "nintervals = 10\n",
    "overlap = 0.9\n",
    "\n",
    "method = 'complete'\n",
    "metric = 'correlation'\n",
    "cutoff = FirstGap(.4)\n",
    "\n",
    "filtr = Projection(ax=ax)"
   ]
  },
  {
   "cell_type": "markdown",
   "metadata": {},
   "source": [
    "##### 2000"
   ]
  },
  {
   "cell_type": "code",
   "execution_count": null,
   "metadata": {},
   "outputs": [],
   "source": [
    "mapper = get_mapper(filtr, nintervals, overlap, method,\n",
    "                    metric, cutoff, data_per_year[0])\n",
    "mapper.fit(verbose=0)\n",
    "nx_plot_mapper(mapper, cmap=cmap,\n",
    "               node_color=get_mean_node(mapper,\n",
    "                                        df=df,\n",
    "                                        col='winner'),\n",
    "               pos=nx.spring_layout(mapper.complex._graph, seed=0))"
   ]
  },
  {
   "cell_type": "code",
   "execution_count": null,
   "metadata": {},
   "outputs": [],
   "source": [
    "nx_plot_mapper(mapper, cmap=cmap,\n",
    "               node_color=get_mean_node(mapper,\n",
    "                                        df=df,\n",
    "                                        col='Per capita net earnings 4/'),\n",
    "               pos=nx.spring_layout(mapper.complex._graph, seed=0))"
   ]
  },
  {
   "cell_type": "markdown",
   "metadata": {},
   "source": [
    "##### 2004"
   ]
  },
  {
   "cell_type": "code",
   "execution_count": null,
   "metadata": {},
   "outputs": [],
   "source": [
    "mapper = get_mapper(filtr, nintervals, overlap, method,\n",
    "                    metric, cutoff, data_per_year[1])\n",
    "mapper.fit(verbose=0)\n",
    "nx_plot_mapper(mapper, cmap=cmap,\n",
    "               node_color=get_mean_node(mapper,\n",
    "                                        df=df,\n",
    "                                        col='winner'),\n",
    "               pos=nx.spring_layout(mapper.complex._graph, seed=0))"
   ]
  },
  {
   "cell_type": "code",
   "execution_count": null,
   "metadata": {},
   "outputs": [],
   "source": [
    "nx_plot_mapper(mapper, cmap=cmap,\n",
    "               node_color=get_mean_node(mapper,\n",
    "                                        df=df,\n",
    "                                        col='Per capita net earnings 4/'),\n",
    "               pos=nx.spring_layout(mapper.complex._graph, seed=0))"
   ]
  },
  {
   "cell_type": "markdown",
   "metadata": {},
   "source": [
    "##### 2008"
   ]
  },
  {
   "cell_type": "code",
   "execution_count": null,
   "metadata": {},
   "outputs": [],
   "source": [
    "mapper = get_mapper(filtr, nintervals, overlap, method,\n",
    "                    metric, cutoff, data_per_year[2])\n",
    "mapper.fit(verbose=0)\n",
    "nx_plot_mapper(mapper, cmap=cmap,\n",
    "               node_color=get_mean_node(mapper,\n",
    "                                        df=df,\n",
    "                                        col='winner'),\n",
    "               pos=nx.spring_layout(mapper.complex._graph, seed=0))"
   ]
  },
  {
   "cell_type": "code",
   "execution_count": null,
   "metadata": {},
   "outputs": [],
   "source": [
    "nx_plot_mapper(mapper, cmap=cmap,\n",
    "               node_color=get_mean_node(mapper,\n",
    "                                        df=df,\n",
    "                                        col='Per capita net earnings 4/'),\n",
    "               pos=nx.spring_layout(mapper.complex._graph, seed=0))"
   ]
  },
  {
   "cell_type": "markdown",
   "metadata": {},
   "source": [
    "##### 2012"
   ]
  },
  {
   "cell_type": "code",
   "execution_count": null,
   "metadata": {},
   "outputs": [],
   "source": [
    "mapper = get_mapper(filtr, nintervals, overlap, method,\n",
    "                    metric, cutoff, data_per_year[3])\n",
    "mapper.fit(verbose=0)\n",
    "nx_plot_mapper(mapper, cmap=cmap,\n",
    "               node_color=get_mean_node(mapper,\n",
    "                                        df=df,\n",
    "                                        col='winner'),\n",
    "               pos=nx.spring_layout(mapper.complex._graph, seed=0))"
   ]
  },
  {
   "cell_type": "code",
   "execution_count": null,
   "metadata": {},
   "outputs": [],
   "source": [
    "nx_plot_mapper(mapper, cmap=cmap,\n",
    "               node_color=get_mean_node(mapper,\n",
    "                                        df=df,\n",
    "                                        col='Per capita net earnings 4/'),\n",
    "               pos=nx.spring_layout(mapper.complex._graph, seed=0))"
   ]
  },
  {
   "cell_type": "markdown",
   "metadata": {},
   "source": [
    "##### 2016"
   ]
  },
  {
   "cell_type": "code",
   "execution_count": null,
   "metadata": {},
   "outputs": [],
   "source": [
    "mapper = get_mapper(filtr, nintervals, overlap, method,\n",
    "                    metric, cutoff, data_per_year[4])\n",
    "mapper.fit(verbose=0)\n",
    "nx_plot_mapper(mapper, cmap=cmap,\n",
    "               node_color=get_mean_node(mapper,\n",
    "                                        df=df,\n",
    "                                        col='winner'),\n",
    "               pos=nx.spring_layout(mapper.complex._graph, seed=0))"
   ]
  },
  {
   "cell_type": "code",
   "execution_count": null,
   "metadata": {},
   "outputs": [],
   "source": [
    "nx_plot_mapper(mapper, cmap=cmap,\n",
    "               node_color=get_mean_node(mapper,\n",
    "                                        df=df,\n",
    "                                        col='Per capita net earnings 4/'),\n",
    "               pos=nx.spring_layout(mapper.complex._graph, seed=0))"
   ]
  },
  {
   "cell_type": "code",
   "execution_count": null,
   "metadata": {},
   "outputs": [],
   "source": []
  }
 ],
 "metadata": {
  "kernelspec": {
   "display_name": "Python 3",
   "language": "python",
   "name": "python3"
  },
  "language_info": {
   "codemirror_mode": {
    "name": "ipython",
    "version": 3
   },
   "file_extension": ".py",
   "mimetype": "text/x-python",
   "name": "python",
   "nbconvert_exporter": "python",
   "pygments_lexer": "ipython3",
   "version": "3.7.4"
  }
 },
 "nbformat": 4,
 "nbformat_minor": 2
}
